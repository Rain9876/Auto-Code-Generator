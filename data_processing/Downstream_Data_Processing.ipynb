{
 "cells": [
  {
   "cell_type": "code",
   "execution_count": 1,
   "metadata": {},
   "outputs": [],
   "source": [
    "# --utf-8---\n",
    "import gzip\n",
    "import pandas as pd\n",
    "import sys\n",
    "import io\n",
    "import json\n",
    "import re\n",
    "import time\n",
    "import ast\n",
    "from zipfile import ZipFile\n",
    "import json\n",
    "import pickle\n",
    "import os\n",
    "from pathlib import Path\n",
    "pd.set_option('max_colwidth',300)"
   ]
  },
  {
   "cell_type": "code",
   "execution_count": 4,
   "metadata": {},
   "outputs": [],
   "source": [
    "python_files = sorted(Path(\"./processed_data/python/final/jsonl\").glob('**/*.gz'))"
   ]
  },
  {
   "cell_type": "code",
   "execution_count": 5,
   "metadata": {},
   "outputs": [
    {
     "name": "stdout",
     "output_type": "stream",
     "text": [
      "processed_data/python/final/jsonl/test/python_test_0.jsonl.gz\n",
      "processed_data/python/final/jsonl/train/python_train_0.jsonl.gz\n",
      "processed_data/python/final/jsonl/train/python_train_1.jsonl.gz\n",
      "processed_data/python/final/jsonl/train/python_train_10.jsonl.gz\n",
      "processed_data/python/final/jsonl/train/python_train_11.jsonl.gz\n",
      "processed_data/python/final/jsonl/train/python_train_12.jsonl.gz\n",
      "processed_data/python/final/jsonl/train/python_train_13.jsonl.gz\n",
      "processed_data/python/final/jsonl/train/python_train_2.jsonl.gz\n",
      "processed_data/python/final/jsonl/train/python_train_3.jsonl.gz\n",
      "processed_data/python/final/jsonl/train/python_train_4.jsonl.gz\n",
      "processed_data/python/final/jsonl/train/python_train_5.jsonl.gz\n",
      "processed_data/python/final/jsonl/train/python_train_6.jsonl.gz\n",
      "processed_data/python/final/jsonl/train/python_train_7.jsonl.gz\n",
      "processed_data/python/final/jsonl/train/python_train_8.jsonl.gz\n",
      "processed_data/python/final/jsonl/train/python_train_9.jsonl.gz\n",
      "processed_data/python/final/jsonl/valid/python_valid_0.jsonl.gz\n"
     ]
    }
   ],
   "source": [
    "for i in python_files:\n",
    "    print(i)"
   ]
  },
  {
   "cell_type": "code",
   "execution_count": 6,
   "metadata": {},
   "outputs": [],
   "source": [
    "\"\"\"\n",
    "Full List:\n",
    "['repo', 'path', 'func_name', 'original_string', 'language', 'code', \n",
    "'code_tokens', 'docstring', 'docstring_tokens', 'sha', 'url', 'partition']\n",
    "\"\"\"\n",
    "\n",
    "columns_long_list = ['repo', 'path', 'url', 'code',\n",
    "                     'code_tokens', 'docstring', 'docstring_tokens', \n",
    "                     'language', 'partition']\n",
    "\n",
    "columns_short_list = [\"func_name\",'code', 'docstring', \n",
    "                      'url', 'partition']"
   ]
  },
  {
   "cell_type": "code",
   "execution_count": 7,
   "metadata": {},
   "outputs": [],
   "source": [
    "def jsonl_list_to_dataframe(file_list, columns=columns_long_list):\n",
    "    \"\"\"Load a list of jsonl.gz files into a pandas DataFrame.\"\"\"\n",
    "    return pd.concat([pd.read_json(f, \n",
    "                                   orient='records', \n",
    "                                   compression='gzip',\n",
    "                                   lines=True)[columns] \n",
    "                      for f in file_list], sort=False)"
   ]
  },
  {
   "cell_type": "code",
   "execution_count": 8,
   "metadata": {},
   "outputs": [],
   "source": [
    "pydf = jsonl_list_to_dataframe(python_files, columns_short_list)"
   ]
  },
  {
   "cell_type": "code",
   "execution_count": 9,
   "metadata": {},
   "outputs": [
    {
     "data": {
      "text/html": [
       "<div>\n",
       "<style scoped>\n",
       "    .dataframe tbody tr th:only-of-type {\n",
       "        vertical-align: middle;\n",
       "    }\n",
       "\n",
       "    .dataframe tbody tr th {\n",
       "        vertical-align: top;\n",
       "    }\n",
       "\n",
       "    .dataframe thead th {\n",
       "        text-align: right;\n",
       "    }\n",
       "</style>\n",
       "<table border=\"1\" class=\"dataframe\">\n",
       "  <thead>\n",
       "    <tr style=\"text-align: right;\">\n",
       "      <th></th>\n",
       "      <th>func_name</th>\n",
       "      <th>code</th>\n",
       "      <th>docstring</th>\n",
       "      <th>url</th>\n",
       "      <th>partition</th>\n",
       "    </tr>\n",
       "  </thead>\n",
       "  <tbody>\n",
       "    <tr>\n",
       "      <th>0</th>\n",
       "      <td>YouTube.get_vid_from_url</td>\n",
       "      <td>def get_vid_from_url(url):\\n        \"\"\"Extracts video ID from URL.\\n        \"\"\"\\n        return match1(url, r'youtu\\.be/([^?/]+)') or \\\\n          match1(url, r'youtube\\.com/embed/([^/?]+)') or \\\\n          match1(url, r'youtube\\.com/v/([^/?]+)') or \\\\n          match1(url, r'youtube\\.com/watch/...</td>\n",
       "      <td>Extracts video ID from URL.</td>\n",
       "      <td>https://github.com/soimort/you-get/blob/b746ac01c9f39de94cac2d56f665285b0523b974/src/you_get/extractors/youtube.py#L135-L143</td>\n",
       "      <td>test</td>\n",
       "    </tr>\n",
       "    <tr>\n",
       "      <th>1</th>\n",
       "      <td>sina_xml_to_url_list</td>\n",
       "      <td>def sina_xml_to_url_list(xml_data):\\n    \"\"\"str-&gt;list\\n    Convert XML to URL List.\\n    From Biligrab.\\n    \"\"\"\\n    rawurl = []\\n    dom = parseString(xml_data)\\n    for node in dom.getElementsByTagName('durl'):\\n        url = node.getElementsByTagName('url')[0]\\n        rawurl.append(url.chil...</td>\n",
       "      <td>str-&gt;list\\n    Convert XML to URL List.\\n    From Biligrab.</td>\n",
       "      <td>https://github.com/soimort/you-get/blob/b746ac01c9f39de94cac2d56f665285b0523b974/src/you_get/extractors/miomio.py#L41-L51</td>\n",
       "      <td>test</td>\n",
       "    </tr>\n",
       "    <tr>\n",
       "      <th>2</th>\n",
       "      <td>makeMimi</td>\n",
       "      <td>def makeMimi(upid):\\n    \"\"\"From http://cdn37.atwikiimg.com/sitescript/pub/dksitescript/FC2.site.js\\n    Also com.hps.util.fc2.FC2EncrptUtil.makeMimiLocal\\n    L110\"\"\"\\n    strSeed = \"gGddgPfeaf_gzyr\"\\n    prehash = upid + \"_\" + strSeed\\n    return md5(prehash.encode('utf-8')).hexdigest()</td>\n",
       "      <td>From http://cdn37.atwikiimg.com/sitescript/pub/dksitescript/FC2.site.js\\n    Also com.hps.util.fc2.FC2EncrptUtil.makeMimiLocal\\n    L110</td>\n",
       "      <td>https://github.com/soimort/you-get/blob/b746ac01c9f39de94cac2d56f665285b0523b974/src/you_get/extractors/fc2video.py#L11-L17</td>\n",
       "      <td>test</td>\n",
       "    </tr>\n",
       "    <tr>\n",
       "      <th>3</th>\n",
       "      <td>fc2video_download</td>\n",
       "      <td>def fc2video_download(url, output_dir = '.', merge = True, info_only = False, **kwargs):\\n    \"\"\"wrapper\"\"\"\\n    #'http://video.fc2.com/en/content/20151021bTVKnbEw'\\n    #'http://xiaojiadianvideo.asia/content/20151021bTVKnbEw'\\n    #'http://video.fc2.com/ja/content/20151021bTVKnbEw'\\n    #'http:...</td>\n",
       "      <td>wrapper</td>\n",
       "      <td>https://github.com/soimort/you-get/blob/b746ac01c9f39de94cac2d56f665285b0523b974/src/you_get/extractors/fc2video.py#L46-L57</td>\n",
       "      <td>test</td>\n",
       "    </tr>\n",
       "    <tr>\n",
       "      <th>4</th>\n",
       "      <td>dailymotion_download</td>\n",
       "      <td>def dailymotion_download(url, output_dir='.', merge=True, info_only=False, **kwargs):\\n    \"\"\"Downloads Dailymotion videos by URL.\\n    \"\"\"\\n\\n    html = get_content(rebuilt_url(url))\\n    info = json.loads(match1(html, r'qualities\":({.+?}),\"'))\\n    title = match1(html, r'\"video_title\"\\s*:\\s*\"(...</td>\n",
       "      <td>Downloads Dailymotion videos by URL.</td>\n",
       "      <td>https://github.com/soimort/you-get/blob/b746ac01c9f39de94cac2d56f665285b0523b974/src/you_get/extractors/dailymotion.py#L13-L35</td>\n",
       "      <td>test</td>\n",
       "    </tr>\n",
       "  </tbody>\n",
       "</table>\n",
       "</div>"
      ],
      "text/plain": [
       "                  func_name  \\\n",
       "0  YouTube.get_vid_from_url   \n",
       "1      sina_xml_to_url_list   \n",
       "2                  makeMimi   \n",
       "3         fc2video_download   \n",
       "4      dailymotion_download   \n",
       "\n",
       "                                                                                                                                                                                                                                                                                                          code  \\\n",
       "0  def get_vid_from_url(url):\\n        \"\"\"Extracts video ID from URL.\\n        \"\"\"\\n        return match1(url, r'youtu\\.be/([^?/]+)') or \\\\n          match1(url, r'youtube\\.com/embed/([^/?]+)') or \\\\n          match1(url, r'youtube\\.com/v/([^/?]+)') or \\\\n          match1(url, r'youtube\\.com/watch/...   \n",
       "1  def sina_xml_to_url_list(xml_data):\\n    \"\"\"str->list\\n    Convert XML to URL List.\\n    From Biligrab.\\n    \"\"\"\\n    rawurl = []\\n    dom = parseString(xml_data)\\n    for node in dom.getElementsByTagName('durl'):\\n        url = node.getElementsByTagName('url')[0]\\n        rawurl.append(url.chil...   \n",
       "2            def makeMimi(upid):\\n    \"\"\"From http://cdn37.atwikiimg.com/sitescript/pub/dksitescript/FC2.site.js\\n    Also com.hps.util.fc2.FC2EncrptUtil.makeMimiLocal\\n    L110\"\"\"\\n    strSeed = \"gGddgPfeaf_gzyr\"\\n    prehash = upid + \"_\" + strSeed\\n    return md5(prehash.encode('utf-8')).hexdigest()   \n",
       "3  def fc2video_download(url, output_dir = '.', merge = True, info_only = False, **kwargs):\\n    \"\"\"wrapper\"\"\"\\n    #'http://video.fc2.com/en/content/20151021bTVKnbEw'\\n    #'http://xiaojiadianvideo.asia/content/20151021bTVKnbEw'\\n    #'http://video.fc2.com/ja/content/20151021bTVKnbEw'\\n    #'http:...   \n",
       "4  def dailymotion_download(url, output_dir='.', merge=True, info_only=False, **kwargs):\\n    \"\"\"Downloads Dailymotion videos by URL.\\n    \"\"\"\\n\\n    html = get_content(rebuilt_url(url))\\n    info = json.loads(match1(html, r'qualities\":({.+?}),\"'))\\n    title = match1(html, r'\"video_title\"\\s*:\\s*\"(...   \n",
       "\n",
       "                                                                                                                                  docstring  \\\n",
       "0                                                                                                               Extracts video ID from URL.   \n",
       "1                                                                               str->list\\n    Convert XML to URL List.\\n    From Biligrab.   \n",
       "2  From http://cdn37.atwikiimg.com/sitescript/pub/dksitescript/FC2.site.js\\n    Also com.hps.util.fc2.FC2EncrptUtil.makeMimiLocal\\n    L110   \n",
       "3                                                                                                                                   wrapper   \n",
       "4                                                                                                      Downloads Dailymotion videos by URL.   \n",
       "\n",
       "                                                                                                                              url  \\\n",
       "0    https://github.com/soimort/you-get/blob/b746ac01c9f39de94cac2d56f665285b0523b974/src/you_get/extractors/youtube.py#L135-L143   \n",
       "1       https://github.com/soimort/you-get/blob/b746ac01c9f39de94cac2d56f665285b0523b974/src/you_get/extractors/miomio.py#L41-L51   \n",
       "2     https://github.com/soimort/you-get/blob/b746ac01c9f39de94cac2d56f665285b0523b974/src/you_get/extractors/fc2video.py#L11-L17   \n",
       "3     https://github.com/soimort/you-get/blob/b746ac01c9f39de94cac2d56f665285b0523b974/src/you_get/extractors/fc2video.py#L46-L57   \n",
       "4  https://github.com/soimort/you-get/blob/b746ac01c9f39de94cac2d56f665285b0523b974/src/you_get/extractors/dailymotion.py#L13-L35   \n",
       "\n",
       "  partition  \n",
       "0      test  \n",
       "1      test  \n",
       "2      test  \n",
       "3      test  \n",
       "4      test  "
      ]
     },
     "execution_count": 9,
     "metadata": {},
     "output_type": "execute_result"
    }
   ],
   "source": [
    "pydf.head(5)"
   ]
  },
  {
   "cell_type": "code",
   "execution_count": null,
   "metadata": {},
   "outputs": [],
   "source": []
  },
  {
   "cell_type": "code",
   "execution_count": 10,
   "metadata": {},
   "outputs": [],
   "source": [
    "def clean_up_comments(content):\n",
    "    '''\n",
    "    Collect Description and DocString\n",
    "    '''\n",
    "    content = re.sub(r\"\\s*#\\s.*\\n\",\"\\n\", content)\n",
    "    content =  re.sub(r\"(\\\"{3}|\\'{3})[\\s\\S]*(\\\"{3}|\\'{3})[\\n|\\s]*\",\"\", content)\n",
    "    content = re.sub(r\"\\n{2,}\",\"\\n\",content)\n",
    "    return content"
   ]
  },
  {
   "cell_type": "code",
   "execution_count": 11,
   "metadata": {},
   "outputs": [],
   "source": [
    "pydf[\"code\"] = pydf[\"code\"].apply(clean_up_comments)"
   ]
  },
  {
   "cell_type": "code",
   "execution_count": 13,
   "metadata": {},
   "outputs": [],
   "source": [
    "pydf[pydf[\"partition\"]==\"test\"].to_csv(\"./processed_data/finetuning/test.csv\", columns = [\"docstring\",\"code\"])"
   ]
  },
  {
   "cell_type": "code",
   "execution_count": 14,
   "metadata": {},
   "outputs": [],
   "source": [
    "pydf[pydf[\"partition\"]==\"train\"].to_csv(\"./processed_data/finetuning/train.csv\", columns = [\"docstring\",\"code\"])"
   ]
  },
  {
   "cell_type": "code",
   "execution_count": 15,
   "metadata": {},
   "outputs": [],
   "source": [
    "pydf[pydf[\"partition\"]==\"valid\"].to_csv(\"./processed_data/finetuning/val.csv\", columns = [\"docstring\",\"code\"])"
   ]
  },
  {
   "cell_type": "code",
   "execution_count": 16,
   "metadata": {},
   "outputs": [
    {
     "name": "stdout",
     "output_type": "stream",
     "text": [
      "22176\n",
      "412178\n",
      "23107\n"
     ]
    }
   ],
   "source": [
    "print(len(pydf[pydf[\"partition\"]==\"test\"]))\n",
    "print(len(pydf[pydf[\"partition\"]==\"train\"]))\n",
    "print(len(pydf[pydf[\"partition\"]==\"valid\"]))"
   ]
  },
  {
   "cell_type": "code",
   "execution_count": null,
   "metadata": {},
   "outputs": [],
   "source": []
  },
  {
   "cell_type": "code",
   "execution_count": 271,
   "metadata": {},
   "outputs": [],
   "source": [
    "# print(T5_config)"
   ]
  },
  {
   "cell_type": "code",
   "execution_count": null,
   "metadata": {},
   "outputs": [],
   "source": []
  }
 ],
 "metadata": {
  "kernelspec": {
   "display_name": "Python 3",
   "language": "python",
   "name": "python3"
  },
  "language_info": {
   "codemirror_mode": {
    "name": "ipython",
    "version": 3
   },
   "file_extension": ".py",
   "mimetype": "text/x-python",
   "name": "python",
   "nbconvert_exporter": "python",
   "pygments_lexer": "ipython3",
   "version": "3.9.2"
  }
 },
 "nbformat": 4,
 "nbformat_minor": 2
}
