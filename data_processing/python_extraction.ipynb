{
 "cells": [
  {
   "cell_type": "code",
   "execution_count": 1,
   "metadata": {},
   "outputs": [],
   "source": [
    "#--utf-8---\n",
    "import gzip\n",
    "import shutil\n",
    "import pandas as pd\n",
    "import sys\n",
    "import io\n",
    "import json\n",
    "import re"
   ]
  },
  {
   "cell_type": "code",
   "execution_count": 4,
   "metadata": {},
   "outputs": [],
   "source": [
    "file = gzip.open('/Users/yurunsong/Desktop/Data/rawCode/python-000000000000.csv.gz') \n",
    "pf = pd.read_csv(file, encoding=\"utf-8\")"
   ]
  },
  {
   "cell_type": "code",
   "execution_count": 26,
   "metadata": {},
   "outputs": [
    {
     "name": "stdout",
     "output_type": "stream",
     "text": [
      "import unittest\n",
      "\n",
      "from thunder import ThunderContext\n",
      "from thunder import SourceExtraction\n",
      "\n",
      "from test_utils import PySparkTestCase\n",
      "\n",
      "_have_sima = False\n",
      "try:\n",
      "    import sima\n",
      "except ImportError:\n",
      "    pass\n",
      "else:\n",
      "    _have_sima = True\n",
      "\n",
      "\n",
      "class TestBlockMethod(PySparkTestCase):\n",
      "\n",
      "    def test_nmf(self):\n",
      "        \"\"\"\n",
      "        (BlockMethod) nmf with defaults\n",
      "        \"\"\"\n",
      "        tsc = ThunderContext(self.sc)\n",
      "        data = tsc.makeExample('sources', dims=(60, 60), centers=[[20, 20], [40, 40]], noise=0.1, seed=42)\n",
      "\n",
      "        model = SourceExtraction('nmf', componentsPerBlock=1, maxArea=500).fit(data, size=(30, 30))\n",
      "\n",
      "        assert(model.count == 2)\n",
      "\n",
      "        # order is irrelevant, but one of these must be true\n",
      "        ep = 1.0\n",
      "        cond1 = (model[0].distance([20, 20]) < ep) and (model[1].distance([40, 40]) < ep)\n",
      "        cond2 = (model[0].distance([40, 40]) < ep) and (model[1].distance([20, 20]) < ep)\n",
      "        assert(cond1 or cond2)\n",
      "\n",
      "    @unittest.skipIf(not _have_sima, \"SIMA not installed or not functional\")\n",
      "    def test_sima(self):\n",
      "        \"\"\"\n",
      "        (BlockMethod) with SIMA strategy\n",
      "        \"\"\"\n",
      "        # NOTE: this test was brittle and failed non-deterministically with any\n",
      "        # more than one source\n",
      "        import sima.segment\n",
      "\n",
      "        # construct the SIMA strategy\n",
      "        simaStrategy = sima.segment.STICA(components=1)\n",
      "        simaStrategy.append(sima.segment.SparseROIsFromMasks(min_size=20))\n",
      "        simaStrategy.append(sima.segment.SmoothROIBoundaries())\n",
      "        simaStrategy.append(sima.segment.MergeOverlapping(threshold=0.5))\n",
      "\n",
      "        tsc = ThunderContext(self.sc)\n",
      "        data = tsc.makeExample('sources', dims=(60, 60), centers=[[20, 15]], noise=0.5, seed=42)\n",
      "\n",
      "        # create and fit the thunder extraction strategy\n",
      "        strategy = SourceExtraction('sima', simaStrategy=simaStrategy)\n",
      "        model = strategy.fit(data, size=(30, 30))\n",
      "\n",
      "        assert(model.count == 1)\n",
      "\n",
      "        # check that the one center is recovered\n",
      "        ep = 1.5\n",
      "        assert(model[0].distance([20, 15]) < ep)\n",
      "\n"
     ]
    }
   ],
   "source": [
    "content = pf[\"content\"][6]\n",
    "print(content)"
   ]
  },
  {
   "cell_type": "code",
   "execution_count": null,
   "metadata": {},
   "outputs": [],
   "source": []
  },
  {
   "cell_type": "markdown",
   "metadata": {},
   "source": [
    "## Python structure"
   ]
  },
  {
   "cell_type": "code",
   "execution_count": 7,
   "metadata": {},
   "outputs": [],
   "source": [
    "'''\n",
    "Generate Tree structure for Python code\n",
    "'''\n",
    "class pythonNode():\n",
    "    def __init__(self, start, end, name, parent, indent):\n",
    "        self.start =start\n",
    "        self.end =end\n",
    "        self.parent =parent\n",
    "        self.indent =indent\n",
    "        self.name = name\n",
    "        self.child = []"
   ]
  },
  {
   "cell_type": "code",
   "execution_count": 8,
   "metadata": {},
   "outputs": [],
   "source": [
    "startwith = [\"from\", \"import\", \"class\", \"def\", \"for\", \"while\", \"if\", \"else\", \"elif\"]\n",
    "\n",
    "\n",
    "def restruct(content, start, end, parent, indent):\n",
    "    subContent = content[start: end]\n",
    "    pattern = \"\\n\\s{\" + str(indent) + \"}[a-zA-Z@\\'{3}_#0-9]\"\n",
    "    idx = [(m.start(0), m.end(0)) for m in re.finditer(pattern, subContent)]\n",
    "\n",
    "    name = \"\"\n",
    "    for ele in startwith:\n",
    "        if subContent[2:].startswith(ele):\n",
    "            name = ele\n",
    "\n",
    "    if len(idx) == 1:\n",
    "        return pythonNode(start, end, parent, name, indent)\n",
    "    else:\n",
    "        for i in range(len(idx)):\n",
    "            if i == 0:\n",
    "                tmp = pythonNode(parent.start, start+idx[0][0], name, parent, indent)  \n",
    "                restruct(content, parent.start, start + idx[0][0], tmp, indent + 4)\n",
    "            elif i == len(idx) - 1:\n",
    "                tmp = pythonNode(start+idx[-1][0]+1, parent.end, name, parent, indent)\n",
    "                restruct(content, start + idx[-1][0] + 1, parent.end, tmp, indent + 4)\n",
    "            else:\n",
    "                tmp = pythonNode(start+idx[i][0]+1,start+idx[i+1][0],name, parent, indent)\n",
    "                restruct(content, start + idx[i][0] + 1, start + idx[i + 1][0], tmp, indent + 4)\n",
    "            parent.child.append(tmp)\n",
    "        return parent"
   ]
  },
  {
   "cell_type": "code",
   "execution_count": 9,
   "metadata": {},
   "outputs": [],
   "source": [
    "root = pythonNode(0, len(content),\"root\", None, -1)"
   ]
  },
  {
   "cell_type": "code",
   "execution_count": 10,
   "metadata": {},
   "outputs": [
    {
     "data": {
      "text/plain": [
       "<__main__.pythonNode at 0x17dc1c910>"
      ]
     },
     "execution_count": 10,
     "metadata": {},
     "output_type": "execute_result"
    }
   ],
   "source": [
    "restruct(content,0, len(content), root, 0)"
   ]
  },
  {
   "cell_type": "code",
   "execution_count": 12,
   "metadata": {},
   "outputs": [],
   "source": [
    "# print(len(root.child))\n",
    "# print(content[root.child[-2].start: root.child[-2].end])"
   ]
  },
  {
   "cell_type": "code",
   "execution_count": null,
   "metadata": {},
   "outputs": [],
   "source": []
  },
  {
   "cell_type": "markdown",
   "metadata": {},
   "source": [
    "## Python Extract Methods"
   ]
  },
  {
   "cell_type": "code",
   "execution_count": 13,
   "metadata": {},
   "outputs": [],
   "source": [
    "def searchMethods(content):\n",
    "    idxs_method = [(m.start(0), m.end(0)) for m in re.finditer(r\"(?!\\n)\\s*def\\s.*\\(.*\\):\",content)]\n",
    "    methodRange = []\n",
    "    for i in idxs_method:\n",
    "        subContent = content[i[0]:i[1]]\n",
    "        indent  = numOfIndent(subContent)\n",
    "        position = findNextIndent(content[i[1]:],indent)\n",
    "        methodRange.append((i[0],i[1]+position))\n",
    "    return methodRange"
   ]
  },
  {
   "cell_type": "code",
   "execution_count": 14,
   "metadata": {},
   "outputs": [],
   "source": [
    "def numOfIndent(line):\n",
    "    indent = 0\n",
    "    while line[indent] == \" \":\n",
    "        indent += 1\n",
    "    return indent"
   ]
  },
  {
   "cell_type": "code",
   "execution_count": 15,
   "metadata": {},
   "outputs": [],
   "source": [
    "def findNextIndent(content, indent):\n",
    "    '''\n",
    "        find next position where the indent is higher in the content\n",
    "    '''\n",
    "    start = 0\n",
    "    while start < len(content):\n",
    "        if content[start] == \"\\n\":\n",
    "            nextIndent = start+1+indent\n",
    "            if content[nextIndent: nextIndent+2] != \"  \":\n",
    "                return start+1\n",
    "        start += 1\n",
    "    return start  "
   ]
  },
  {
   "cell_type": "code",
   "execution_count": 16,
   "metadata": {},
   "outputs": [],
   "source": [
    "def cleanEachUp(content):\n",
    "    '''\n",
    "        Clean up extracted methods\n",
    "    '''\n",
    "    indent = numOfIndent(content)\n",
    "    replacement = \"\\n\"+(\" \"*indent)\n",
    "    content = content.replace(replacement, \"\\n\") \n",
    "    return content.strip().strip(\"\\n\")"
   ]
  },
  {
   "cell_type": "code",
   "execution_count": 21,
   "metadata": {},
   "outputs": [],
   "source": [
    "'''\n",
    "    Collect Description and DocString\n",
    "'''\n",
    "def cleanUpComments(content):\n",
    "    content = re.sub(r\"\\s*#\\s.*\\n\",\"\\n\", content)\n",
    "    content = re.sub(r\"[\\\"]{3}\\n\\s*.*\\n\\s*[\\\"]{3}\",\"\", content)\n",
    "    content = re.sub(r\"\\n{2,}\",\"\\n\",content)\n",
    "    return content\n",
    "\n",
    "\n",
    "def getDescription(content):\n",
    "    idx = content.find(\"\\n\")\n",
    "    title = content[:idx]\n",
    "    descriptions = re.findall(r\"(#\\s.*\\n)+\",content)\n",
    "    docString = re.findall(r\"[\\\"]{3}\\n\\s*.*\\n\\s*[\\\"]{3}\",content)\n",
    "    return title, descriptions, docString"
   ]
  },
  {
   "cell_type": "code",
   "execution_count": null,
   "metadata": {},
   "outputs": [],
   "source": []
  },
  {
   "cell_type": "code",
   "execution_count": 22,
   "metadata": {},
   "outputs": [],
   "source": [
    "out = searchMethods(content)"
   ]
  },
  {
   "cell_type": "code",
   "execution_count": 23,
   "metadata": {},
   "outputs": [],
   "source": [
    "methods = []\n",
    "for i in out:\n",
    "    methods.append(content[i[0]:i[1]])"
   ]
  },
  {
   "cell_type": "code",
   "execution_count": 24,
   "metadata": {},
   "outputs": [
    {
     "name": "stdout",
     "output_type": "stream",
     "text": [
      "def test_nmf(self):\n",
      "    \"\"\"\n",
      "    (BlockMethod) nmf with defaults\n",
      "    \"\"\"\n",
      "    tsc = ThunderContext(self.sc)\n",
      "    data = tsc.makeExample('sources', dims=(60, 60), centers=[[20, 20], [40, 40]], noise=0.1, seed=42)\n",
      "\n",
      "    model = SourceExtraction('nmf', componentsPerBlock=1, maxArea=500).fit(data, size=(30, 30))\n",
      "\n",
      "    assert(model.count == 2)\n",
      "\n",
      "    # order is irrelevant, but one of these must be true\n",
      "    ep = 1.0\n",
      "    cond1 = (model[0].distance([20, 20]) < ep) and (model[1].distance([40, 40]) < ep)\n",
      "    cond2 = (model[0].distance([40, 40]) < ep) and (model[1].distance([20, 20]) < ep)\n",
      "    assert(cond1 or cond2)\n",
      "=====================================================\n",
      "def test_sima(self):\n",
      "    \"\"\"\n",
      "    (BlockMethod) with SIMA strategy\n",
      "    \"\"\"\n",
      "    # NOTE: this test was brittle and failed non-deterministically with any\n",
      "    # more than one source\n",
      "    import sima.segment\n",
      "\n",
      "    # construct the SIMA strategy\n",
      "    simaStrategy = sima.segment.STICA(components=1)\n",
      "    simaStrategy.append(sima.segment.SparseROIsFromMasks(min_size=20))\n",
      "    simaStrategy.append(sima.segment.SmoothROIBoundaries())\n",
      "    simaStrategy.append(sima.segment.MergeOverlapping(threshold=0.5))\n",
      "\n",
      "    tsc = ThunderContext(self.sc)\n",
      "    data = tsc.makeExample('sources', dims=(60, 60), centers=[[20, 15]], noise=0.5, seed=42)\n",
      "\n",
      "    # create and fit the thunder extraction strategy\n",
      "    strategy = SourceExtraction('sima', simaStrategy=simaStrategy)\n",
      "    model = strategy.fit(data, size=(30, 30))\n",
      "\n",
      "    assert(model.count == 1)\n",
      "\n",
      "    # check that the one center is recovered\n",
      "    ep = 1.5\n",
      "    assert(model[0].distance([20, 15]) < ep)\n",
      "=====================================================\n"
     ]
    }
   ],
   "source": [
    "for i in methods:\n",
    "    print(cleanEachUp(i))\n",
    "    print(\"=====================================================\")"
   ]
  },
  {
   "cell_type": "code",
   "execution_count": 45,
   "metadata": {},
   "outputs": [
    {
     "name": "stdout",
     "output_type": "stream",
     "text": [
      "def test_sima(self):\n",
      "\n",
      "Descriptions\n",
      "['# NOTE: this test was brittle and failed non-deterministically with any\\n']\n",
      "['# more than one source\\n']\n",
      "['# construct the SIMA strategy\\n']\n",
      "['# create and fit the thunder extraction strategy\\n']\n",
      "['# check that the one center is recovered\\n']\n",
      "\n",
      "======================================\n",
      "def test_nmf(self):\n",
      "    \n",
      "    tsc = ThunderContext(self.sc)\n",
      "    data = tsc.makeExample('sources', dims=(60, 60), centers=[[20, 20], [40, 40]], noise=0.1, seed=42)\n",
      "    model = SourceExtraction('nmf', componentsPerBlock=1, maxArea=500).fit(data, size=(30, 30))\n",
      "    assert(model.count == 2)\n",
      "    ep = 1.0\n",
      "    cond1 = (model[0].distance([20, 20]) < ep) and (model[1].distance([40, 40]) < ep)\n",
      "    cond2 = (model[0].distance([40, 40]) < ep) and (model[1].distance([20, 20]) < ep)\n",
      "    assert(cond1 or cond2)\n"
     ]
    }
   ],
   "source": [
    "out = getDescription(cleanEachUp(methods[1]))\n",
    "print(out[0])\n",
    "print()\n",
    "print(\"Descriptions\")\n",
    "for i in out[1]:\n",
    "    print([i])\n",
    "print()\n",
    "print(\"======================================\")\n",
    "print(cleanUpComments(cleanEachUp(methods[0])))"
   ]
  },
  {
   "cell_type": "code",
   "execution_count": null,
   "metadata": {},
   "outputs": [],
   "source": []
  }
 ],
 "metadata": {
  "kernelspec": {
   "display_name": "Python 3",
   "language": "python",
   "name": "python3"
  },
  "language_info": {
   "codemirror_mode": {
    "name": "ipython",
    "version": 3
   },
   "file_extension": ".py",
   "mimetype": "text/x-python",
   "name": "python",
   "nbconvert_exporter": "python",
   "pygments_lexer": "ipython3",
   "version": "3.7.4"
  }
 },
 "nbformat": 4,
 "nbformat_minor": 2
}
