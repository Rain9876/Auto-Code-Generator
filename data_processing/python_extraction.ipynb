{
 "cells": [
  {
   "cell_type": "code",
   "execution_count": 49,
   "metadata": {},
   "outputs": [],
   "source": [
    "#--utf-8---\n",
    "import gzip\n",
    "import shutil\n",
    "import pandas as pd\n",
    "import sys\n",
    "import io\n",
    "import json\n",
    "import re\n",
    "import time\n",
    "\n",
    "import ast\n",
    "import astunparse"
   ]
  },
  {
   "cell_type": "code",
   "execution_count": 10,
   "metadata": {},
   "outputs": [],
   "source": [
    "\n",
    "\n",
    "\n",
    "\n",
    "\n",
    "\n",
    "\n",
    "\n",
    "\n",
    "\n",
    "\n",
    "\n",
    "\n",
    "\n",
    "\n",
    "\n",
    "\n",
    "ile = gzip.open('/Users/yurunsong/Desktop/Data/rawCode/python-000000000000.csv.gz') \n",
    "pf = pd.read_csv(file, encoding=\"utf-8\")"
   ]
  },
  {
   "cell_type": "code",
   "execution_count": 11,
   "metadata": {},
   "outputs": [
    {
     "data": {
      "text/html": [
       "<div>\n",
       "<style scoped>\n",
       "    .dataframe tbody tr th:only-of-type {\n",
       "        vertical-align: middle;\n",
       "    }\n",
       "\n",
       "    .dataframe tbody tr th {\n",
       "        vertical-align: top;\n",
       "    }\n",
       "\n",
       "    .dataframe thead th {\n",
       "        text-align: right;\n",
       "    }\n",
       "</style>\n",
       "<table border=\"1\" class=\"dataframe\">\n",
       "  <thead>\n",
       "    <tr style=\"text-align: right;\">\n",
       "      <th></th>\n",
       "      <th>repo_name</th>\n",
       "      <th>ref</th>\n",
       "      <th>path</th>\n",
       "      <th>copies</th>\n",
       "      <th>content</th>\n",
       "    </tr>\n",
       "  </thead>\n",
       "  <tbody>\n",
       "    <tr>\n",
       "      <th>0</th>\n",
       "      <td>Axford/OpenSCADMachineDesignFramework</td>\n",
       "      <td>refs/heads/master</td>\n",
       "      <td>scripts/static.py</td>\n",
       "      <td>6</td>\n",
       "      <td>#!/usr/bin/env python\\n\\n# Perform static code...</td>\n",
       "    </tr>\n",
       "    <tr>\n",
       "      <th>1</th>\n",
       "      <td>ghandiosm/Test</td>\n",
       "      <td>refs/heads/master</td>\n",
       "      <td>addons/mail/models/mail_followers.py</td>\n",
       "      <td>26</td>\n",
       "      <td># -*- coding: utf-8 -*-\\n\\nfrom openerp import...</td>\n",
       "    </tr>\n",
       "    <tr>\n",
       "      <th>2</th>\n",
       "      <td>pwarren/AGDeviceControl</td>\n",
       "      <td>refs/heads/master</td>\n",
       "      <td>agdevicecontrol/thirdparty/site-packages/linux...</td>\n",
       "      <td>17</td>\n",
       "      <td># Copyright (c) 2001-2004 Twisted Matrix Labor...</td>\n",
       "    </tr>\n",
       "    <tr>\n",
       "      <th>3</th>\n",
       "      <td>idan/oauthlib</td>\n",
       "      <td>refs/heads/master</td>\n",
       "      <td>tests/oauth2/rfc6749/endpoints/test_metadata.py</td>\n",
       "      <td>1</td>\n",
       "      <td># -*- coding: utf-8 -*-\\nfrom oauthlib.oauth2 ...</td>\n",
       "    </tr>\n",
       "    <tr>\n",
       "      <th>4</th>\n",
       "      <td>melviso/beatle</td>\n",
       "      <td>refs/heads/master</td>\n",
       "      <td>beatle/plugin/tools/ast_explorer/res/_param.py</td>\n",
       "      <td>2</td>\n",
       "      <td># -*- coding: utf-8 -*-\\n\\n_param = [\\n\"16 16 ...</td>\n",
       "    </tr>\n",
       "    <tr>\n",
       "      <th>5</th>\n",
       "      <td>lihf2015/python_exportemail</td>\n",
       "      <td>refs/heads/master</td>\n",
       "      <td>pytest/src/pytest/manage.py</td>\n",
       "      <td>1</td>\n",
       "      <td>#!/usr/bin/env python\\nimport os\\nimport sys\\n...</td>\n",
       "    </tr>\n",
       "    <tr>\n",
       "      <th>6</th>\n",
       "      <td>kunallillaney/thunder</td>\n",
       "      <td>refs/heads/master</td>\n",
       "      <td>test/test_extraction_methods_block.py</td>\n",
       "      <td>8</td>\n",
       "      <td>import unittest\\n\\nfrom thunder import Thunder...</td>\n",
       "    </tr>\n",
       "    <tr>\n",
       "      <th>7</th>\n",
       "      <td>40223225/40223225-cdb-0622</td>\n",
       "      <td>refs/heads/master</td>\n",
       "      <td>static/Brython3.1.1-20150328-091302/Lib/unitte...</td>\n",
       "      <td>737</td>\n",
       "      <td>import unittest\\nfrom unittest.mock import sen...</td>\n",
       "    </tr>\n",
       "    <tr>\n",
       "      <th>8</th>\n",
       "      <td>trangel/OPTpy</td>\n",
       "      <td>refs/heads/master</td>\n",
       "      <td>OPTpy/Abinit/utils.py</td>\n",
       "      <td>1</td>\n",
       "      <td>from __future__ import print_function, divisio...</td>\n",
       "    </tr>\n",
       "    <tr>\n",
       "      <th>9</th>\n",
       "      <td>Menooker/gem5_pcm</td>\n",
       "      <td>refs/heads/master</td>\n",
       "      <td>src/dev/x86/Cmos.py</td>\n",
       "      <td>69</td>\n",
       "      <td># Copyright (c) 2008 The Regents of The Univer...</td>\n",
       "    </tr>\n",
       "  </tbody>\n",
       "</table>\n",
       "</div>"
      ],
      "text/plain": [
       "                               repo_name                ref  \\\n",
       "0  Axford/OpenSCADMachineDesignFramework  refs/heads/master   \n",
       "1                         ghandiosm/Test  refs/heads/master   \n",
       "2                pwarren/AGDeviceControl  refs/heads/master   \n",
       "3                          idan/oauthlib  refs/heads/master   \n",
       "4                         melviso/beatle  refs/heads/master   \n",
       "5            lihf2015/python_exportemail  refs/heads/master   \n",
       "6                  kunallillaney/thunder  refs/heads/master   \n",
       "7             40223225/40223225-cdb-0622  refs/heads/master   \n",
       "8                          trangel/OPTpy  refs/heads/master   \n",
       "9                      Menooker/gem5_pcm  refs/heads/master   \n",
       "\n",
       "                                                path  copies  \\\n",
       "0                                  scripts/static.py       6   \n",
       "1               addons/mail/models/mail_followers.py      26   \n",
       "2  agdevicecontrol/thirdparty/site-packages/linux...      17   \n",
       "3    tests/oauth2/rfc6749/endpoints/test_metadata.py       1   \n",
       "4     beatle/plugin/tools/ast_explorer/res/_param.py       2   \n",
       "5                        pytest/src/pytest/manage.py       1   \n",
       "6              test/test_extraction_methods_block.py       8   \n",
       "7  static/Brython3.1.1-20150328-091302/Lib/unitte...     737   \n",
       "8                              OPTpy/Abinit/utils.py       1   \n",
       "9                                src/dev/x86/Cmos.py      69   \n",
       "\n",
       "                                             content  \n",
       "0  #!/usr/bin/env python\\n\\n# Perform static code...  \n",
       "1  # -*- coding: utf-8 -*-\\n\\nfrom openerp import...  \n",
       "2  # Copyright (c) 2001-2004 Twisted Matrix Labor...  \n",
       "3  # -*- coding: utf-8 -*-\\nfrom oauthlib.oauth2 ...  \n",
       "4  # -*- coding: utf-8 -*-\\n\\n_param = [\\n\"16 16 ...  \n",
       "5  #!/usr/bin/env python\\nimport os\\nimport sys\\n...  \n",
       "6  import unittest\\n\\nfrom thunder import Thunder...  \n",
       "7  import unittest\\nfrom unittest.mock import sen...  \n",
       "8  from __future__ import print_function, divisio...  \n",
       "9  # Copyright (c) 2008 The Regents of The Univer...  "
      ]
     },
     "execution_count": 11,
     "metadata": {},
     "output_type": "execute_result"
    }
   ],
   "source": [
    "pf.head(10)"
   ]
  },
  {
   "cell_type": "code",
   "execution_count": 12,
   "metadata": {},
   "outputs": [],
   "source": [
    "# Processing about attribute Copies\n",
    "#\n",
    "# sum(pf[\"copies\"].tolist())/len(pf[\"copies\"])\n",
    "# [int(len(pf[\"copies\"])/2)]\n",
    "# print(pf[\"content\"][pf[\"copies\"]>5000])"
   ]
  },
  {
   "cell_type": "code",
   "execution_count": 13,
   "metadata": {},
   "outputs": [],
   "source": [
    "# print(pf[\"content\"][142799])"
   ]
  },
  {
   "cell_type": "code",
   "execution_count": 14,
   "metadata": {
    "scrolled": false
   },
   "outputs": [
    {
     "name": "stdout",
     "output_type": "stream",
     "text": [
      "import unittest\n",
      "from unittest.mock import sentinel, DEFAULT\n",
      "\n",
      "\n",
      "class SentinelTest(unittest.TestCase):\n",
      "\n",
      "    def testSentinels(self):\n",
      "        self.assertEqual(sentinel.whatever, sentinel.whatever,\n",
      "                         'sentinel not stored')\n",
      "        self.assertNotEqual(sentinel.whatever, sentinel.whateverelse,\n",
      "                            'sentinel should be unique')\n",
      "\n",
      "\n",
      "    def testSentinelName(self):\n",
      "        self.assertEqual(str(sentinel.whatever), 'sentinel.whatever',\n",
      "                         'sentinel name incorrect')\n",
      "\n",
      "\n",
      "    def testDEFAULT(self):\n",
      "        self.assertTrue(DEFAULT is sentinel.DEFAULT)\n",
      "\n",
      "    def testBases(self):\n",
      "        # If this doesn't raise an AttributeError then help(mock) is broken\n",
      "        self.assertRaises(AttributeError, lambda: sentinel.__bases__)\n",
      "\n",
      "\n",
      "if __name__ == '__main__':\n",
      "    unittest.main()\n",
      "\n"
     ]
    }
   ],
   "source": [
    "content = pf[\"content\"][7]\n",
    "print(content)"
   ]
  },
  {
   "cell_type": "code",
   "execution_count": null,
   "metadata": {},
   "outputs": [],
   "source": []
  },
  {
   "cell_type": "markdown",
   "metadata": {},
   "source": [
    "## Python structure"
   ]
  },
  {
   "cell_type": "code",
   "execution_count": 15,
   "metadata": {},
   "outputs": [],
   "source": [
    "'''\n",
    "Generate Abstract syntax Tree structure for Python code\n",
    "'''\n",
    "\n",
    "class pythonNode():\n",
    "    def __init__(self, start, end, name, parent, indent):\n",
    "        self.start =start\n",
    "        self.end =end\n",
    "        self.parent =parent\n",
    "        self.indent =indent\n",
    "        self.name = name\n",
    "        self.child = []"
   ]
  },
  {
   "cell_type": "code",
   "execution_count": 16,
   "metadata": {},
   "outputs": [],
   "source": [
    "startwith = [\"from\", \"import\", \"class\", \"def\", \"for\", \"while\", \"if\", \"else\", \"elif\"]\n",
    "\n",
    "def restruct(content, start, end, parent, indent):\n",
    "    subContent = content[start: end]\n",
    "    pattern = \"\\n\\s{\" + str(indent) + \"}[a-zA-Z@\\'{3}_#0-9]\"\n",
    "    idx = [(m.start(0), m.end(0)) for m in re.finditer(pattern, subContent)]\n",
    "\n",
    "    name = \"\"\n",
    "    for ele in startwith:\n",
    "        if subContent[2:].startswith(ele):\n",
    "            name = ele\n",
    "\n",
    "    if len(idx) == 1:\n",
    "        return pythonNode(start, end, parent, name, indent)\n",
    "    else:\n",
    "        for i in range(len(idx)):\n",
    "            if i == 0:\n",
    "                tmp = pythonNode(parent.start, start+idx[0][0], name, parent, indent)  \n",
    "                restruct(content, parent.start, start + idx[0][0], tmp, indent + 4)\n",
    "            elif i == len(idx) - 1:\n",
    "                tmp = pythonNode(start+idx[-1][0]+1, parent.end, name, parent, indent)\n",
    "                restruct(content, start + idx[-1][0] + 1, parent.end, tmp, indent + 4)\n",
    "            else:\n",
    "                tmp = pythonNode(start+idx[i][0]+1,start+idx[i+1][0],name, parent, indent)\n",
    "                restruct(content, start + idx[i][0] + 1, start + idx[i + 1][0], tmp, indent + 4)\n",
    "            parent.child.append(tmp)\n",
    "        return parent"
   ]
  },
  {
   "cell_type": "code",
   "execution_count": 17,
   "metadata": {},
   "outputs": [],
   "source": [
    "root = pythonNode(0, len(content),\"root\", None, -1)"
   ]
  },
  {
   "cell_type": "code",
   "execution_count": 18,
   "metadata": {},
   "outputs": [
    {
     "data": {
      "text/plain": [
       "<__main__.pythonNode at 0x117cbb590>"
      ]
     },
     "execution_count": 18,
     "metadata": {},
     "output_type": "execute_result"
    }
   ],
   "source": [
    "restruct(content,0, len(content), root, 0)"
   ]
  },
  {
   "cell_type": "code",
   "execution_count": 19,
   "metadata": {},
   "outputs": [],
   "source": [
    "# print(len(root.child))\n",
    "# print(content[root.child[-2].start: root.child[-2].end])"
   ]
  },
  {
   "cell_type": "code",
   "execution_count": null,
   "metadata": {},
   "outputs": [],
   "source": []
  },
  {
   "cell_type": "markdown",
   "metadata": {},
   "source": [
    "## Python Extract Methods"
   ]
  },
  {
   "cell_type": "code",
   "execution_count": 20,
   "metadata": {},
   "outputs": [],
   "source": [
    "def search_methods(content):\n",
    "    '''\n",
    "        Search the Method structure and function code.\n",
    "    '''\n",
    "    idxs_method = [(m.start(0), m.end(0)) for m in re.finditer(r\"(?!\\n)\\s*def\\s.*\\(.*\\):\",content)]\n",
    "    methodRange = []\n",
    "    for i in idxs_method:\n",
    "        subContent = content[i[0]:i[1]]\n",
    "        indent  = num_of_Indent(subContent)\n",
    "        position = find_next_indent(content[i[1]:],indent)\n",
    "        methodRange.append((i[0],i[1]+position))\n",
    "    return methodRange"
   ]
  },
  {
   "cell_type": "code",
   "execution_count": 21,
   "metadata": {},
   "outputs": [],
   "source": [
    "def num_of_Indent(line):\n",
    "    \"\"\"\n",
    "        return the number of indent in the line.\n",
    "    \"\"\"\n",
    "    indent = 0\n",
    "    while line[indent] == \" \":\n",
    "        indent += 1\n",
    "    return indent"
   ]
  },
  {
   "cell_type": "code",
   "execution_count": 22,
   "metadata": {},
   "outputs": [],
   "source": [
    "def find_next_indent(content, indent):\n",
    "    '''\n",
    "        find next position where the indent is higher in the content.\n",
    "    '''\n",
    "    start = 0\n",
    "    while start < len(content):\n",
    "        if content[start] == \"\\n\":\n",
    "            nextIndent = start+1+indent\n",
    "            if content[nextIndent: nextIndent+2] != \"  \":\n",
    "                return start+1\n",
    "        start += 1\n",
    "    return start  "
   ]
  },
  {
   "cell_type": "code",
   "execution_count": 23,
   "metadata": {},
   "outputs": [],
   "source": [
    "def clean_up_methods(content):\n",
    "    '''\n",
    "        Clean up extracted methods\n",
    "    '''\n",
    "    indent = num_of_Indent(content)\n",
    "    replacement = \"\\n\"+(\" \"*indent)\n",
    "    content = content.replace(replacement, \"\\n\") \n",
    "    return content.strip().strip(\"\\n\")"
   ]
  },
  {
   "cell_type": "code",
   "execution_count": 24,
   "metadata": {},
   "outputs": [],
   "source": [
    "def clean_up_comments(content):\n",
    "    '''\n",
    "    Collect Description and DocString\n",
    "    '''\n",
    "    content = re.sub(r\"\\s*#\\s.*\\n\",\"\\n\", content)\n",
    "    content = re.sub(r\"[\\\"]{3}\\n\\s*.*\\n\\s*[\\\"]{3}\",\"\", content)\n",
    "    content = re.sub(r\"\\n{2,}\",\"\\n\",content)\n",
    "    return content\n",
    "\n",
    "\n",
    "def get_descrip_from_method(content):\n",
    "    idx = content.find(\"\\n\")\n",
    "    name = content[:idx]\n",
    "    descriptions = re.findall(r\"(#\\s.*\\n)+\",content)\n",
    "    docString = re.findall(r\"[\\\"]{3}\\n\\s*.*\\n\\s*[\\\"]{3}\",content)\n",
    "    name = name.replace(\"def \",\"\")\n",
    "    name = re.sub(\"\\(.*\\):\", \"\", name)\n",
    "    descriptions = [i.strip(\"#\").strip() for i in descriptions]\n",
    "    docString = [i.strip(\"\\\"\").strip(\"\\n\").strip() for i in docString]\n",
    "    return name, descriptions, docString"
   ]
  },
  {
   "cell_type": "code",
   "execution_count": null,
   "metadata": {},
   "outputs": [],
   "source": []
  },
  {
   "cell_type": "code",
   "execution_count": 25,
   "metadata": {},
   "outputs": [],
   "source": [
    "out = search_methods(content)"
   ]
  },
  {
   "cell_type": "code",
   "execution_count": 26,
   "metadata": {},
   "outputs": [],
   "source": [
    "methods = [content[i[0]:i[1]] for i in out]"
   ]
  },
  {
   "cell_type": "code",
   "execution_count": 27,
   "metadata": {
    "scrolled": false
   },
   "outputs": [
    {
     "name": "stdout",
     "output_type": "stream",
     "text": [
      "def testSentinels(self):\n",
      "    self.assertEqual(sentinel.whatever, sentinel.whatever,\n",
      "                     'sentinel not stored')\n",
      "    self.assertNotEqual(sentinel.whatever, sentinel.whateverelse,\n",
      "                        'sentinel should be unique')\n",
      "=====================================================\n",
      "def testSentinelName(self):\n",
      "    self.assertEqual(str(sentinel.whatever), 'sentinel.whatever',\n",
      "                     'sentinel name incorrect')\n",
      "=====================================================\n",
      "def testDEFAULT(self):\n",
      "    self.assertTrue(DEFAULT is sentinel.DEFAULT)\n",
      "=====================================================\n",
      "def testBases(self):\n",
      "    # If this doesn't raise an AttributeError then help(mock) is broken\n",
      "    self.assertRaises(AttributeError, lambda: sentinel.__bases__)\n",
      "=====================================================\n"
     ]
    }
   ],
   "source": [
    "for i in methods:\n",
    "    print(clean_up_methods(i))\n",
    "    print(\"=====================================================\")"
   ]
  },
  {
   "cell_type": "code",
   "execution_count": 28,
   "metadata": {},
   "outputs": [
    {
     "name": "stdout",
     "output_type": "stream",
     "text": [
      "('testSentinelName', [], [])\n",
      "\n",
      "Descriptions\n",
      "\n",
      "\n",
      "======================================\n",
      "def testSentinelName(self):\n",
      "    self.assertEqual(str(sentinel.whatever), 'sentinel.whatever',\n",
      "                     'sentinel name incorrect')\n"
     ]
    }
   ],
   "source": [
    "out = get_descrip_from_method(clean_up_methods(methods[1]))\n",
    "print(out)\n",
    "print()\n",
    "print(\"Descriptions\")\n",
    "for i in out[1]:\n",
    "    print(i)\n",
    "print()\n",
    "for i in out[2]:\n",
    "    print(i)\n",
    "print()\n",
    "print(\"======================================\")\n",
    "print(clean_up_comments(clean_up_methods(methods[1])))"
   ]
  },
  {
   "cell_type": "code",
   "execution_count": 29,
   "metadata": {},
   "outputs": [],
   "source": [
    "def processing_methods(contents):\n",
    "    '''\n",
    "        Procesing the methods and format to dict before storing in json. \n",
    "    '''\n",
    "    data = []\n",
    "    for i, body in enumerate(contents):\n",
    "        if str(body) == \"nan\":\n",
    "            continue\n",
    "        output = searchMethods(body)\n",
    "        methods = [body[i[0]:i[1]] for i in output]\n",
    "        for method in methods:\n",
    "            docs = getDescription(cleanUpMethods(method))\n",
    "            func = cleanUpComments(cleanUpMethods(method))\n",
    "            if len(docs[2]) > 0:\n",
    "                data.append({\n",
    "                    \"name\": docs[0],\n",
    "                    \"descrip\": \" \".join(docs[1]),\n",
    "                    \"docString\": \" \".join(docs[2]),\n",
    "                    \"function\": func,    \n",
    "                })\n",
    "    return data\n"
   ]
  },
  {
   "cell_type": "code",
   "execution_count": 30,
   "metadata": {},
   "outputs": [],
   "source": [
    "def store_to_json(data):\n",
    "    '''\n",
    "        Store into json file.\n",
    "    '''\n",
    "    with open('data.json', 'w') as fw:\n",
    "        json.dump(data,fw)"
   ]
  },
  {
   "cell_type": "code",
   "execution_count": 53,
   "metadata": {},
   "outputs": [],
   "source": [
    "# start = time.time()\n",
    "# data = processing_methods(pf[\"content\"])\n",
    "# print(time.time()-start)"
   ]
  },
  {
   "cell_type": "code",
   "execution_count": 54,
   "metadata": {},
   "outputs": [],
   "source": [
    "# store(data)"
   ]
  },
  {
   "cell_type": "code",
   "execution_count": 35,
   "metadata": {},
   "outputs": [],
   "source": [
    "funcs = pd.read_json(sys.path[0]+\"/data.json\", orient='records')"
   ]
  },
  {
   "cell_type": "code",
   "execution_count": 36,
   "metadata": {},
   "outputs": [
    {
     "data": {
      "text/html": [
       "<div>\n",
       "<style scoped>\n",
       "    .dataframe tbody tr th:only-of-type {\n",
       "        vertical-align: middle;\n",
       "    }\n",
       "\n",
       "    .dataframe tbody tr th {\n",
       "        vertical-align: top;\n",
       "    }\n",
       "\n",
       "    .dataframe thead th {\n",
       "        text-align: right;\n",
       "    }\n",
       "</style>\n",
       "<table border=\"1\" class=\"dataframe\">\n",
       "  <thead>\n",
       "    <tr style=\"text-align: right;\">\n",
       "      <th></th>\n",
       "      <th>name</th>\n",
       "      <th>descrip</th>\n",
       "      <th>docString</th>\n",
       "      <th>function</th>\n",
       "    </tr>\n",
       "  </thead>\n",
       "  <tbody>\n",
       "    <tr>\n",
       "      <th>0</th>\n",
       "      <td>elapsedFunc</td>\n",
       "      <td></td>\n",
       "      <td>1!</td>\n",
       "      <td>def elapsedFunc(self):\\n</td>\n",
       "    </tr>\n",
       "    <tr>\n",
       "      <th>1</th>\n",
       "      <td>test_nmf</td>\n",
       "      <td>order is irrelevant, but one of these must be ...</td>\n",
       "      <td>(BlockMethod) nmf with defaults</td>\n",
       "      <td>def test_nmf(self):\\n    \\n    tsc = ThunderCo...</td>\n",
       "    </tr>\n",
       "    <tr>\n",
       "      <th>2</th>\n",
       "      <td>test_sima</td>\n",
       "      <td>NOTE: this test was brittle and failed non-det...</td>\n",
       "      <td>(BlockMethod) with SIMA strategy</td>\n",
       "      <td>def test_sima(self):\\n    \\n    import sima.se...</td>\n",
       "    </tr>\n",
       "    <tr>\n",
       "      <th>3</th>\n",
       "      <td>formatter</td>\n",
       "      <td></td>\n",
       "      <td>register formatters</td>\n",
       "      <td>def formatter(func):\\n    \\n    FORMATTERS[get...</td>\n",
       "    </tr>\n",
       "    <tr>\n",
       "      <th>4</th>\n",
       "      <td>url</td>\n",
       "      <td></td>\n",
       "      <td>convert FROM dict OR string TO URL PARAMETERS</td>\n",
       "      <td>def url(value):\\n    \\n    return value2url_pa...</td>\n",
       "    </tr>\n",
       "  </tbody>\n",
       "</table>\n",
       "</div>"
      ],
      "text/plain": [
       "          name                                            descrip  \\\n",
       "0  elapsedFunc                                                      \n",
       "1     test_nmf  order is irrelevant, but one of these must be ...   \n",
       "2    test_sima  NOTE: this test was brittle and failed non-det...   \n",
       "3    formatter                                                      \n",
       "4          url                                                      \n",
       "\n",
       "                                       docString  \\\n",
       "0                                             1!   \n",
       "1                (BlockMethod) nmf with defaults   \n",
       "2               (BlockMethod) with SIMA strategy   \n",
       "3                            register formatters   \n",
       "4  convert FROM dict OR string TO URL PARAMETERS   \n",
       "\n",
       "                                            function  \n",
       "0                       def elapsedFunc(self):\\n      \n",
       "1  def test_nmf(self):\\n    \\n    tsc = ThunderCo...  \n",
       "2  def test_sima(self):\\n    \\n    import sima.se...  \n",
       "3  def formatter(func):\\n    \\n    FORMATTERS[get...  \n",
       "4  def url(value):\\n    \\n    return value2url_pa...  "
      ]
     },
     "execution_count": 36,
     "metadata": {},
     "output_type": "execute_result"
    }
   ],
   "source": [
    "funcs.head()"
   ]
  },
  {
   "cell_type": "code",
   "execution_count": 44,
   "metadata": {},
   "outputs": [
    {
     "name": "stdout",
     "output_type": "stream",
     "text": [
      "function name: utf82unicode\n",
      "--------------------\n",
      "DocString: WITH EXPLANATION FOR FAILURE\n",
      "--------------------\n",
      "Function Body:\n",
      "def utf82unicode(value):\n",
      "    \n",
      "    try:\n",
      "        return value.decode(\"utf8\")\n",
      "    except Exception as e:\n",
      "        if not _Log:\n",
      "            _late_import()\n"
     ]
    }
   ],
   "source": [
    "print(f'function name: {funcs[\"name\"][10]}')\n",
    "print(\"--\"*10)\n",
    "print(f'DocString: {funcs[\"docString\"][10]}')\n",
    "print(\"--\"*10)\n",
    "print(f'Function Body:\\n{funcs[\"function\"][10]}')"
   ]
  },
  {
   "cell_type": "code",
   "execution_count": null,
   "metadata": {},
   "outputs": [],
   "source": []
  },
  {
   "cell_type": "markdown",
   "metadata": {},
   "source": [
    "## Natural Languages"
   ]
  },
  {
   "cell_type": "code",
   "execution_count": 45,
   "metadata": {},
   "outputs": [],
   "source": [
    "def getNL(content):\n",
    "    '''\n",
    "        Get the Docstrings, Descriptions, class and function name, \n",
    "        which are used as pretraining Natural Language input.\n",
    "    '''\n",
    "    \n",
    "    output = []\n",
    "    output_idx = []\n",
    "    \n",
    "    idx_class = [(m.start(0), m.end(0)) for m in re.finditer(r\"(?!\\n)\\s*class\\s.*\\(.*\\):\",content)]\n",
    "    idx_name = [(m.start(0), m.end(0)) for m in re.finditer(r\"(?!\\n)\\s*def\\s.*\\(.*\\):\",content)]\n",
    "    idx_descrip = [(m.start(0), m.end(0)) for m in re.finditer(r\"(#\\s.*\\n)+\",content)]    \n",
    "    idx_docString = [(m.start(0), m.end(0)) for m in re.finditer(r\"[\\\"]{3}\\n?\\s*.*\\n?\\s*[\\\"]{3}\",content)]\n",
    "\n",
    "    \n",
    "    output_idx.extend(idx_class)\n",
    "    output_idx.extend(idx_name)\n",
    "    output_idx.extend(idx_descrip)\n",
    "    output_idx.extend(idx_docString)\n",
    "    \n",
    "    for i in sorted(output_idx):\n",
    "        code_str = content[i[0]:i[1]]\n",
    "        code_str = code_str.strip(\"#\").strip('\"\\\"').strip(\"\\n\")\n",
    "        code_str = code_str.strip()\n",
    "        output.append(code_str)\n",
    "    \n",
    "    return output"
   ]
  },
  {
   "cell_type": "code",
   "execution_count": 46,
   "metadata": {},
   "outputs": [
    {
     "data": {
      "text/plain": [
       "['class SentinelTest(unittest.TestCase):',\n",
       " 'def testSentinels(self):',\n",
       " 'def testSentinelName(self):',\n",
       " 'def testDEFAULT(self):',\n",
       " 'def testBases(self):',\n",
       " \"If this doesn't raise an AttributeError then help(mock) is broken\"]"
      ]
     },
     "execution_count": 46,
     "metadata": {},
     "output_type": "execute_result"
    }
   ],
   "source": [
    "getNL(content)"
   ]
  },
  {
   "cell_type": "code",
   "execution_count": null,
   "metadata": {},
   "outputs": [],
   "source": []
  },
  {
   "cell_type": "markdown",
   "metadata": {},
   "source": [
    "## ControlFlow"
   ]
  },
  {
   "cell_type": "code",
   "execution_count": 47,
   "metadata": {},
   "outputs": [],
   "source": [
    "code = funcs[\"function\"][21]"
   ]
  },
  {
   "cell_type": "code",
   "execution_count": 50,
   "metadata": {},
   "outputs": [
    {
     "name": "stdout",
     "output_type": "stream",
     "text": [
      "Module(body=[FunctionDef(name='remove_profile_images', args=arguments(args=[arg(arg='profile_image_names', annotation=None)], vararg=None, kwonlyargs=[], kw_defaults=[], kwarg=None, defaults=[]), body=[Assign(targets=[Name(id='storage', ctx=Store())], value=Call(func=Name(id='get_profile_image_storage', ctx=Load()), args=[], keywords=[])), For(target=Name(id='name', ctx=Store()), iter=Call(func=Attribute(value=Name(id='profile_image_names', ctx=Load()), attr='values', ctx=Load()), args=[], keywords=[]), body=[Expr(value=Call(func=Attribute(value=Name(id='storage', ctx=Load()), attr='delete', ctx=Load()), args=[Name(id='name', ctx=Load())], keywords=[]))], orelse=[])], decorator_list=[], returns=None)])\n",
      "\n",
      "\n",
      "def remove_profile_images(profile_image_names):\n",
      "    storage = get_profile_image_storage()\n",
      "    for name in profile_image_names.values():\n",
      "        storage.delete(name)\n",
      "\n"
     ]
    }
   ],
   "source": [
    "node = ast.parse(code)\n",
    "print(ast.dump(node))\n",
    "print(astunparse.unparse(node))"
   ]
  },
  {
   "cell_type": "code",
   "execution_count": 51,
   "metadata": {},
   "outputs": [],
   "source": [
    "def CodeVisitor(node, indent):\n",
    "    '''\n",
    "        Recursively visit AST node with indent for a method.\n",
    "        Only stmt, excepthandler are in the consideration.\n",
    "        Other types like expr, boolop, operator, unaryop, arguments are not.\n",
    "        \n",
    "    '''\n",
    "    \n",
    "    if sum(1 for x in ast.iter_child_nodes(node)) == 0:\n",
    "        return\n",
    "    \n",
    "    else:\n",
    "        if isinstance(node, ast.stmt):\n",
    "            print(f\"{indent} {type(node).__name__}\")\n",
    "\n",
    "\n",
    "        if isinstance(node, ast.excepthandler):\n",
    "            indent -= 1\n",
    "            print(f\"{indent} {type(node).__name__}\")\n",
    "            \n",
    "            \n",
    "        if \"orelse\" in node._fields and isinstance(node, ast.If) and len(node.orelse) > 0 :\n",
    "            \n",
    "            CodeVisitor(node.test, indent)\n",
    "            indent += 1\n",
    "            for j in node.body:\n",
    "                CodeVisitor(j, indent)\n",
    "\n",
    "            indent -= 1 \n",
    "            print(f\"{indent} else\")\n",
    "            \n",
    "            indent += 1\n",
    "            for k in node.orelse:\n",
    "                CodeVisitor(k, indent)\n",
    "                    \n",
    "        else:\n",
    "            indent += 1\n",
    "            for i in ast.iter_child_nodes(node):\n",
    "                CodeVisitor(i, indent)\n"
   ]
  },
  {
   "cell_type": "code",
   "execution_count": 52,
   "metadata": {},
   "outputs": [
    {
     "name": "stdout",
     "output_type": "stream",
     "text": [
      "def remove_profile_images(profile_image_names):\n",
      "    \n",
      "    storage = get_profile_image_storage()\n",
      "    for name in profile_image_names.values():\n",
      "        storage.delete(name)\n",
      "=============================\n",
      "0 FunctionDef\n",
      "1 Assign\n",
      "1 For\n",
      "2 Expr\n"
     ]
    }
   ],
   "source": [
    "print(code)\n",
    "print(\"=============================\")\n",
    "node = ast.parse(code)\n",
    "CodeVisitor(node, -1)"
   ]
  },
  {
   "cell_type": "code",
   "execution_count": null,
   "metadata": {},
   "outputs": [],
   "source": []
  }
 ],
 "metadata": {
  "kernelspec": {
   "display_name": "Python 3",
   "language": "python",
   "name": "python3"
  },
  "language_info": {
   "codemirror_mode": {
    "name": "ipython",
    "version": 3
   },
   "file_extension": ".py",
   "mimetype": "text/x-python",
   "name": "python",
   "nbconvert_exporter": "python",
   "pygments_lexer": "ipython3",
   "version": "3.7.1"
  }
 },
 "nbformat": 4,
 "nbformat_minor": 2
}
