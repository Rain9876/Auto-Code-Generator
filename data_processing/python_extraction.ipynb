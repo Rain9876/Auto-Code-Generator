{
 "cells": [
  {
   "cell_type": "code",
   "execution_count": 82,
   "metadata": {},
   "outputs": [],
   "source": [
    "#--utf-8---\n",
    "import gzip\n",
    "import shutil\n",
    "import pandas as pd\n",
    "import sys\n",
    "import io\n",
    "import json\n",
    "import re\n",
    "import time"
   ]
  },
  {
   "cell_type": "code",
   "execution_count": 2,
   "metadata": {},
   "outputs": [],
   "source": [
    "file = gzip.open('/Users/yurunsong/Desktop/Data/rawCode/python-000000000000.csv.gz') \n",
    "pf = pd.read_csv(file, encoding=\"utf-8\")"
   ]
  },
  {
   "cell_type": "code",
   "execution_count": 214,
   "metadata": {},
   "outputs": [
    {
     "data": {
      "text/html": [
       "<div>\n",
       "<style scoped>\n",
       "    .dataframe tbody tr th:only-of-type {\n",
       "        vertical-align: middle;\n",
       "    }\n",
       "\n",
       "    .dataframe tbody tr th {\n",
       "        vertical-align: top;\n",
       "    }\n",
       "\n",
       "    .dataframe thead th {\n",
       "        text-align: right;\n",
       "    }\n",
       "</style>\n",
       "<table border=\"1\" class=\"dataframe\">\n",
       "  <thead>\n",
       "    <tr style=\"text-align: right;\">\n",
       "      <th></th>\n",
       "      <th>repo_name</th>\n",
       "      <th>ref</th>\n",
       "      <th>path</th>\n",
       "      <th>copies</th>\n",
       "      <th>content</th>\n",
       "    </tr>\n",
       "  </thead>\n",
       "  <tbody>\n",
       "    <tr>\n",
       "      <th>0</th>\n",
       "      <td>Axford/OpenSCADMachineDesignFramework</td>\n",
       "      <td>refs/heads/master</td>\n",
       "      <td>scripts/static.py</td>\n",
       "      <td>6</td>\n",
       "      <td>#!/usr/bin/env python\\n\\n# Perform static code...</td>\n",
       "    </tr>\n",
       "    <tr>\n",
       "      <th>1</th>\n",
       "      <td>ghandiosm/Test</td>\n",
       "      <td>refs/heads/master</td>\n",
       "      <td>addons/mail/models/mail_followers.py</td>\n",
       "      <td>26</td>\n",
       "      <td># -*- coding: utf-8 -*-\\n\\nfrom openerp import...</td>\n",
       "    </tr>\n",
       "    <tr>\n",
       "      <th>2</th>\n",
       "      <td>pwarren/AGDeviceControl</td>\n",
       "      <td>refs/heads/master</td>\n",
       "      <td>agdevicecontrol/thirdparty/site-packages/linux...</td>\n",
       "      <td>17</td>\n",
       "      <td># Copyright (c) 2001-2004 Twisted Matrix Labor...</td>\n",
       "    </tr>\n",
       "    <tr>\n",
       "      <th>3</th>\n",
       "      <td>idan/oauthlib</td>\n",
       "      <td>refs/heads/master</td>\n",
       "      <td>tests/oauth2/rfc6749/endpoints/test_metadata.py</td>\n",
       "      <td>1</td>\n",
       "      <td># -*- coding: utf-8 -*-\\nfrom oauthlib.oauth2 ...</td>\n",
       "    </tr>\n",
       "    <tr>\n",
       "      <th>4</th>\n",
       "      <td>melviso/beatle</td>\n",
       "      <td>refs/heads/master</td>\n",
       "      <td>beatle/plugin/tools/ast_explorer/res/_param.py</td>\n",
       "      <td>2</td>\n",
       "      <td># -*- coding: utf-8 -*-\\n\\n_param = [\\n\"16 16 ...</td>\n",
       "    </tr>\n",
       "    <tr>\n",
       "      <th>5</th>\n",
       "      <td>lihf2015/python_exportemail</td>\n",
       "      <td>refs/heads/master</td>\n",
       "      <td>pytest/src/pytest/manage.py</td>\n",
       "      <td>1</td>\n",
       "      <td>#!/usr/bin/env python\\nimport os\\nimport sys\\n...</td>\n",
       "    </tr>\n",
       "    <tr>\n",
       "      <th>6</th>\n",
       "      <td>kunallillaney/thunder</td>\n",
       "      <td>refs/heads/master</td>\n",
       "      <td>test/test_extraction_methods_block.py</td>\n",
       "      <td>8</td>\n",
       "      <td>import unittest\\n\\nfrom thunder import Thunder...</td>\n",
       "    </tr>\n",
       "    <tr>\n",
       "      <th>7</th>\n",
       "      <td>40223225/40223225-cdb-0622</td>\n",
       "      <td>refs/heads/master</td>\n",
       "      <td>static/Brython3.1.1-20150328-091302/Lib/unitte...</td>\n",
       "      <td>737</td>\n",
       "      <td>import unittest\\nfrom unittest.mock import sen...</td>\n",
       "    </tr>\n",
       "    <tr>\n",
       "      <th>8</th>\n",
       "      <td>trangel/OPTpy</td>\n",
       "      <td>refs/heads/master</td>\n",
       "      <td>OPTpy/Abinit/utils.py</td>\n",
       "      <td>1</td>\n",
       "      <td>from __future__ import print_function, divisio...</td>\n",
       "    </tr>\n",
       "    <tr>\n",
       "      <th>9</th>\n",
       "      <td>Menooker/gem5_pcm</td>\n",
       "      <td>refs/heads/master</td>\n",
       "      <td>src/dev/x86/Cmos.py</td>\n",
       "      <td>69</td>\n",
       "      <td># Copyright (c) 2008 The Regents of The Univer...</td>\n",
       "    </tr>\n",
       "  </tbody>\n",
       "</table>\n",
       "</div>"
      ],
      "text/plain": [
       "                               repo_name                ref  \\\n",
       "0  Axford/OpenSCADMachineDesignFramework  refs/heads/master   \n",
       "1                         ghandiosm/Test  refs/heads/master   \n",
       "2                pwarren/AGDeviceControl  refs/heads/master   \n",
       "3                          idan/oauthlib  refs/heads/master   \n",
       "4                         melviso/beatle  refs/heads/master   \n",
       "5            lihf2015/python_exportemail  refs/heads/master   \n",
       "6                  kunallillaney/thunder  refs/heads/master   \n",
       "7             40223225/40223225-cdb-0622  refs/heads/master   \n",
       "8                          trangel/OPTpy  refs/heads/master   \n",
       "9                      Menooker/gem5_pcm  refs/heads/master   \n",
       "\n",
       "                                                path  copies  \\\n",
       "0                                  scripts/static.py       6   \n",
       "1               addons/mail/models/mail_followers.py      26   \n",
       "2  agdevicecontrol/thirdparty/site-packages/linux...      17   \n",
       "3    tests/oauth2/rfc6749/endpoints/test_metadata.py       1   \n",
       "4     beatle/plugin/tools/ast_explorer/res/_param.py       2   \n",
       "5                        pytest/src/pytest/manage.py       1   \n",
       "6              test/test_extraction_methods_block.py       8   \n",
       "7  static/Brython3.1.1-20150328-091302/Lib/unitte...     737   \n",
       "8                              OPTpy/Abinit/utils.py       1   \n",
       "9                                src/dev/x86/Cmos.py      69   \n",
       "\n",
       "                                             content  \n",
       "0  #!/usr/bin/env python\\n\\n# Perform static code...  \n",
       "1  # -*- coding: utf-8 -*-\\n\\nfrom openerp import...  \n",
       "2  # Copyright (c) 2001-2004 Twisted Matrix Labor...  \n",
       "3  # -*- coding: utf-8 -*-\\nfrom oauthlib.oauth2 ...  \n",
       "4  # -*- coding: utf-8 -*-\\n\\n_param = [\\n\"16 16 ...  \n",
       "5  #!/usr/bin/env python\\nimport os\\nimport sys\\n...  \n",
       "6  import unittest\\n\\nfrom thunder import Thunder...  \n",
       "7  import unittest\\nfrom unittest.mock import sen...  \n",
       "8  from __future__ import print_function, divisio...  \n",
       "9  # Copyright (c) 2008 The Regents of The Univer...  "
      ]
     },
     "execution_count": 214,
     "metadata": {},
     "output_type": "execute_result"
    }
   ],
   "source": [
    "pf.head(10)"
   ]
  },
  {
   "cell_type": "code",
   "execution_count": 256,
   "metadata": {},
   "outputs": [],
   "source": [
    "# sum(pf[\"copies\"].tolist())/len(pf[\"copies\"])\n",
    "# [int(len(pf[\"copies\"])/2)]\n",
    "# print(pf[\"content\"][pf[\"copies\"]>5000])"
   ]
  },
  {
   "cell_type": "code",
   "execution_count": 258,
   "metadata": {},
   "outputs": [],
   "source": [
    "# print(pf[\"content\"][142799])"
   ]
  },
  {
   "cell_type": "code",
   "execution_count": 215,
   "metadata": {
    "scrolled": false
   },
   "outputs": [
    {
     "name": "stdout",
     "output_type": "stream",
     "text": [
      "import unittest\n",
      "from unittest.mock import sentinel, DEFAULT\n",
      "\n",
      "\n",
      "class SentinelTest(unittest.TestCase):\n",
      "\n",
      "    def testSentinels(self):\n",
      "        self.assertEqual(sentinel.whatever, sentinel.whatever,\n",
      "                         'sentinel not stored')\n",
      "        self.assertNotEqual(sentinel.whatever, sentinel.whateverelse,\n",
      "                            'sentinel should be unique')\n",
      "\n",
      "\n",
      "    def testSentinelName(self):\n",
      "        self.assertEqual(str(sentinel.whatever), 'sentinel.whatever',\n",
      "                         'sentinel name incorrect')\n",
      "\n",
      "\n",
      "    def testDEFAULT(self):\n",
      "        self.assertTrue(DEFAULT is sentinel.DEFAULT)\n",
      "\n",
      "    def testBases(self):\n",
      "        # If this doesn't raise an AttributeError then help(mock) is broken\n",
      "        self.assertRaises(AttributeError, lambda: sentinel.__bases__)\n",
      "\n",
      "\n",
      "if __name__ == '__main__':\n",
      "    unittest.main()\n",
      "\n"
     ]
    }
   ],
   "source": [
    "content = pf[\"content\"][7]\n",
    "print(content)"
   ]
  },
  {
   "cell_type": "code",
   "execution_count": null,
   "metadata": {},
   "outputs": [],
   "source": []
  },
  {
   "cell_type": "markdown",
   "metadata": {},
   "source": [
    "## Python structure"
   ]
  },
  {
   "cell_type": "code",
   "execution_count": 5,
   "metadata": {},
   "outputs": [],
   "source": [
    "'''\n",
    "Generate Tree structure for Python code\n",
    "'''\n",
    "class pythonNode():\n",
    "    def __init__(self, start, end, name, parent, indent):\n",
    "        self.start =start\n",
    "        self.end =end\n",
    "        self.parent =parent\n",
    "        self.indent =indent\n",
    "        self.name = name\n",
    "        self.child = []"
   ]
  },
  {
   "cell_type": "code",
   "execution_count": 6,
   "metadata": {},
   "outputs": [],
   "source": [
    "startwith = [\"from\", \"import\", \"class\", \"def\", \"for\", \"while\", \"if\", \"else\", \"elif\"]\n",
    "\n",
    "\n",
    "def restruct(content, start, end, parent, indent):\n",
    "    subContent = content[start: end]\n",
    "    pattern = \"\\n\\s{\" + str(indent) + \"}[a-zA-Z@\\'{3}_#0-9]\"\n",
    "    idx = [(m.start(0), m.end(0)) for m in re.finditer(pattern, subContent)]\n",
    "\n",
    "    name = \"\"\n",
    "    for ele in startwith:\n",
    "        if subContent[2:].startswith(ele):\n",
    "            name = ele\n",
    "\n",
    "    if len(idx) == 1:\n",
    "        return pythonNode(start, end, parent, name, indent)\n",
    "    else:\n",
    "        for i in range(len(idx)):\n",
    "            if i == 0:\n",
    "                tmp = pythonNode(parent.start, start+idx[0][0], name, parent, indent)  \n",
    "                restruct(content, parent.start, start + idx[0][0], tmp, indent + 4)\n",
    "            elif i == len(idx) - 1:\n",
    "                tmp = pythonNode(start+idx[-1][0]+1, parent.end, name, parent, indent)\n",
    "                restruct(content, start + idx[-1][0] + 1, parent.end, tmp, indent + 4)\n",
    "            else:\n",
    "                tmp = pythonNode(start+idx[i][0]+1,start+idx[i+1][0],name, parent, indent)\n",
    "                restruct(content, start + idx[i][0] + 1, start + idx[i + 1][0], tmp, indent + 4)\n",
    "            parent.child.append(tmp)\n",
    "        return parent"
   ]
  },
  {
   "cell_type": "code",
   "execution_count": 7,
   "metadata": {},
   "outputs": [],
   "source": [
    "root = pythonNode(0, len(content),\"root\", None, -1)"
   ]
  },
  {
   "cell_type": "code",
   "execution_count": 8,
   "metadata": {},
   "outputs": [
    {
     "data": {
      "text/plain": [
       "<__main__.pythonNode at 0x1146e6d50>"
      ]
     },
     "execution_count": 8,
     "metadata": {},
     "output_type": "execute_result"
    }
   ],
   "source": [
    "restruct(content,0, len(content), root, 0)"
   ]
  },
  {
   "cell_type": "code",
   "execution_count": 9,
   "metadata": {},
   "outputs": [],
   "source": [
    "# print(len(root.child))\n",
    "# print(content[root.child[-2].start: root.child[-2].end])"
   ]
  },
  {
   "cell_type": "code",
   "execution_count": null,
   "metadata": {},
   "outputs": [],
   "source": []
  },
  {
   "cell_type": "markdown",
   "metadata": {},
   "source": [
    "## Python Extract Methods"
   ]
  },
  {
   "cell_type": "code",
   "execution_count": 10,
   "metadata": {},
   "outputs": [],
   "source": [
    "def searchMethods(content):\n",
    "    idxs_method = [(m.start(0), m.end(0)) for m in re.finditer(r\"(?!\\n)\\s*def\\s.*\\(.*\\):\",content)]\n",
    "    methodRange = []\n",
    "    for i in idxs_method:\n",
    "        subContent = content[i[0]:i[1]]\n",
    "        indent  = numOfIndent(subContent)\n",
    "        position = findNextIndent(content[i[1]:],indent)\n",
    "        methodRange.append((i[0],i[1]+position))\n",
    "    return methodRange"
   ]
  },
  {
   "cell_type": "code",
   "execution_count": 11,
   "metadata": {},
   "outputs": [],
   "source": [
    "def numOfIndent(line):\n",
    "    indent = 0\n",
    "    while line[indent] == \" \":\n",
    "        indent += 1\n",
    "    return indent"
   ]
  },
  {
   "cell_type": "code",
   "execution_count": 12,
   "metadata": {},
   "outputs": [],
   "source": [
    "def findNextIndent(content, indent):\n",
    "    '''\n",
    "        find next position where the indent is higher in the content\n",
    "    '''\n",
    "    start = 0\n",
    "    while start < len(content):\n",
    "        if content[start] == \"\\n\":\n",
    "            nextIndent = start+1+indent\n",
    "            if content[nextIndent: nextIndent+2] != \"  \":\n",
    "                return start+1\n",
    "        start += 1\n",
    "    return start  "
   ]
  },
  {
   "cell_type": "code",
   "execution_count": 13,
   "metadata": {},
   "outputs": [],
   "source": [
    "def cleanEachUp(content):\n",
    "    '''\n",
    "        Clean up extracted methods\n",
    "    '''\n",
    "    indent = numOfIndent(content)\n",
    "    replacement = \"\\n\"+(\" \"*indent)\n",
    "    content = content.replace(replacement, \"\\n\") \n",
    "    return content.strip().strip(\"\\n\")"
   ]
  },
  {
   "cell_type": "code",
   "execution_count": 179,
   "metadata": {},
   "outputs": [],
   "source": [
    "'''\n",
    "    Collect Description and DocString\n",
    "'''\n",
    "def cleanUpComments(content):\n",
    "    content = re.sub(r\"\\s*#\\s.*\\n\",\"\\n\", content)\n",
    "    content = re.sub(r\"[\\\"]{3}\\n\\s*.*\\n\\s*[\\\"]{3}\",\"\", content)\n",
    "    content = re.sub(r\"\\n{2,}\",\"\\n\",content)\n",
    "    return content\n",
    "\n",
    "\n",
    "def getDescription(content):\n",
    "    idx = content.find(\"\\n\")\n",
    "    name = content[:idx]\n",
    "    descriptions = re.findall(r\"(#\\s.*\\n)+\",content)\n",
    "    docString = re.findall(r\"[\\\"]{3}\\n\\s*.*\\n\\s*[\\\"]{3}\",content)\n",
    "    name = name.replace(\"def \",\"\")\n",
    "    name = re.sub(\"\\(.*\\):\", \"\", name)\n",
    "    descriptions = [i.strip(\"#\").strip() for i in descriptions]\n",
    "    docString = [i.strip(\"\\\"\").strip(\"\\n\").strip() for i in docString]\n",
    "    return name, descriptions, docString"
   ]
  },
  {
   "cell_type": "code",
   "execution_count": null,
   "metadata": {},
   "outputs": [],
   "source": []
  },
  {
   "cell_type": "code",
   "execution_count": 31,
   "metadata": {},
   "outputs": [],
   "source": [
    "out = searchMethods(content)"
   ]
  },
  {
   "cell_type": "code",
   "execution_count": 61,
   "metadata": {},
   "outputs": [],
   "source": [
    "methods = [content[i[0]:i[1]] for i in out]"
   ]
  },
  {
   "cell_type": "code",
   "execution_count": 29,
   "metadata": {
    "scrolled": false
   },
   "outputs": [
    {
     "name": "stdout",
     "output_type": "stream",
     "text": [
      "def test_nmf(self):\n",
      "    \"\"\"\n",
      "    (BlockMethod) nmf with defaults\n",
      "    \"\"\"\n",
      "    tsc = ThunderContext(self.sc)\n",
      "    data = tsc.makeExample('sources', dims=(60, 60), centers=[[20, 20], [40, 40]], noise=0.1, seed=42)\n",
      "\n",
      "    model = SourceExtraction('nmf', componentsPerBlock=1, maxArea=500).fit(data, size=(30, 30))\n",
      "\n",
      "    assert(model.count == 2)\n",
      "\n",
      "    # order is irrelevant, but one of these must be true\n",
      "    ep = 1.0\n",
      "    cond1 = (model[0].distance([20, 20]) < ep) and (model[1].distance([40, 40]) < ep)\n",
      "    cond2 = (model[0].distance([40, 40]) < ep) and (model[1].distance([20, 20]) < ep)\n",
      "    assert(cond1 or cond2)\n",
      "=====================================================\n",
      "def test_sima(self):\n",
      "    \"\"\"\n",
      "    (BlockMethod) with SIMA strategy\n",
      "    \"\"\"\n",
      "    # NOTE: this test was brittle and failed non-deterministically with any\n",
      "    # more than one source\n",
      "    import sima.segment\n",
      "\n",
      "    # construct the SIMA strategy\n",
      "    simaStrategy = sima.segment.STICA(components=1)\n",
      "    simaStrategy.append(sima.segment.SparseROIsFromMasks(min_size=20))\n",
      "    simaStrategy.append(sima.segment.SmoothROIBoundaries())\n",
      "    simaStrategy.append(sima.segment.MergeOverlapping(threshold=0.5))\n",
      "\n",
      "    tsc = ThunderContext(self.sc)\n",
      "    data = tsc.makeExample('sources', dims=(60, 60), centers=[[20, 15]], noise=0.5, seed=42)\n",
      "\n",
      "    # create and fit the thunder extraction strategy\n",
      "    strategy = SourceExtraction('sima', simaStrategy=simaStrategy)\n",
      "    model = strategy.fit(data, size=(30, 30))\n",
      "\n",
      "    assert(model.count == 1)\n",
      "\n",
      "    # check that the one center is recovered\n",
      "    ep = 1.5\n",
      "    assert(model[0].distance([20, 15]) < ep)\n",
      "=====================================================\n"
     ]
    }
   ],
   "source": [
    "for i in methods:\n",
    "    print(cleanEachUp(i))\n",
    "    print(\"=====================================================\")"
   ]
  },
  {
   "cell_type": "code",
   "execution_count": 42,
   "metadata": {},
   "outputs": [
    {
     "name": "stdout",
     "output_type": "stream",
     "text": [
      "('def test_sima(self):', ['NOTE: this test was brittle and failed non-deterministically with any', 'more than one source', 'construct the SIMA strategy', 'create and fit the thunder extraction strategy', 'check that the one center is recovered'], ['(BlockMethod) with SIMA strategy'])\n",
      "\n",
      "Descriptions\n",
      "NOTE: this test was brittle and failed non-deterministically with any\n",
      "more than one source\n",
      "construct the SIMA strategy\n",
      "create and fit the thunder extraction strategy\n",
      "check that the one center is recovered\n",
      "\n",
      "(BlockMethod) with SIMA strategy\n",
      "\n",
      "======================================\n",
      "def test_sima(self):\n",
      "    \n",
      "    import sima.segment\n",
      "    simaStrategy = sima.segment.STICA(components=1)\n",
      "    simaStrategy.append(sima.segment.SparseROIsFromMasks(min_size=20))\n",
      "    simaStrategy.append(sima.segment.SmoothROIBoundaries())\n",
      "    simaStrategy.append(sima.segment.MergeOverlapping(threshold=0.5))\n",
      "    tsc = ThunderContext(self.sc)\n",
      "    data = tsc.makeExample('sources', dims=(60, 60), centers=[[20, 15]], noise=0.5, seed=42)\n",
      "    strategy = SourceExtraction('sima', simaStrategy=simaStrategy)\n",
      "    model = strategy.fit(data, size=(30, 30))\n",
      "    assert(model.count == 1)\n",
      "    ep = 1.5\n",
      "    assert(model[0].distance([20, 15]) < ep)\n"
     ]
    }
   ],
   "source": [
    "out = getDescription(cleanEachUp(methods[1]))\n",
    "print(out)\n",
    "print()\n",
    "print(\"Descriptions\")\n",
    "for i in out[1]:\n",
    "    print(i)\n",
    "print()\n",
    "for i in out[2]:\n",
    "    print(i)\n",
    "print()\n",
    "print(\"======================================\")\n",
    "print(cleanUpComments(cleanEachUp(methods[1])))"
   ]
  },
  {
   "cell_type": "code",
   "execution_count": 180,
   "metadata": {},
   "outputs": [],
   "source": [
    "def processing(contents):\n",
    "    data = []\n",
    "    for i, body in enumerate(contents):\n",
    "        if str(body) == \"nan\":\n",
    "            continue\n",
    "        output = searchMethods(body)\n",
    "        methods = [body[i[0]:i[1]] for i in output]\n",
    "        for method in methods:\n",
    "            docs = getDescription(cleanEachUp(method))\n",
    "            func = cleanUpComments(cleanEachUp(method))\n",
    "            if len(docs[2]) > 0:\n",
    "                data.append({\n",
    "                    \"name\": docs[0],\n",
    "                    \"descrip\": \" \".join(docs[1]),\n",
    "                    \"docString\": \" \".join(docs[2]),\n",
    "                    \"function\": func,    \n",
    "                })\n",
    "    return data\n"
   ]
  },
  {
   "cell_type": "code",
   "execution_count": 181,
   "metadata": {},
   "outputs": [],
   "source": [
    "def store(data):\n",
    "    with open('data.json', 'w') as fw:\n",
    "        json.dump(data,fw)"
   ]
  },
  {
   "cell_type": "code",
   "execution_count": 188,
   "metadata": {},
   "outputs": [
    {
     "name": "stdout",
     "output_type": "stream",
     "text": [
      "200.29402422904968\n"
     ]
    }
   ],
   "source": [
    "start = time.time()\n",
    "data = processing(pf[\"content\"])\n",
    "print(time.time()-start)"
   ]
  },
  {
   "cell_type": "code",
   "execution_count": 189,
   "metadata": {},
   "outputs": [],
   "source": [
    "store(data)"
   ]
  },
  {
   "cell_type": "code",
   "execution_count": 191,
   "metadata": {},
   "outputs": [],
   "source": [
    "functions = pd.read_json(sys.path[0]+\"/data.json\", orient='records')"
   ]
  },
  {
   "cell_type": "code",
   "execution_count": 210,
   "metadata": {},
   "outputs": [
    {
     "data": {
      "text/html": [
       "<div>\n",
       "<style scoped>\n",
       "    .dataframe tbody tr th:only-of-type {\n",
       "        vertical-align: middle;\n",
       "    }\n",
       "\n",
       "    .dataframe tbody tr th {\n",
       "        vertical-align: top;\n",
       "    }\n",
       "\n",
       "    .dataframe thead th {\n",
       "        text-align: right;\n",
       "    }\n",
       "</style>\n",
       "<table border=\"1\" class=\"dataframe\">\n",
       "  <thead>\n",
       "    <tr style=\"text-align: right;\">\n",
       "      <th></th>\n",
       "      <th>name</th>\n",
       "      <th>descrip</th>\n",
       "      <th>docString</th>\n",
       "      <th>function</th>\n",
       "    </tr>\n",
       "  </thead>\n",
       "  <tbody>\n",
       "    <tr>\n",
       "      <th>0</th>\n",
       "      <td>elapsedFunc</td>\n",
       "      <td></td>\n",
       "      <td>1!</td>\n",
       "      <td>def elapsedFunc(self):\\n</td>\n",
       "    </tr>\n",
       "    <tr>\n",
       "      <th>1</th>\n",
       "      <td>test_nmf</td>\n",
       "      <td>order is irrelevant, but one of these must be ...</td>\n",
       "      <td>(BlockMethod) nmf with defaults</td>\n",
       "      <td>def test_nmf(self):\\n    \\n    tsc = ThunderCo...</td>\n",
       "    </tr>\n",
       "    <tr>\n",
       "      <th>2</th>\n",
       "      <td>test_sima</td>\n",
       "      <td>NOTE: this test was brittle and failed non-det...</td>\n",
       "      <td>(BlockMethod) with SIMA strategy</td>\n",
       "      <td>def test_sima(self):\\n    \\n    import sima.se...</td>\n",
       "    </tr>\n",
       "    <tr>\n",
       "      <th>3</th>\n",
       "      <td>formatter</td>\n",
       "      <td></td>\n",
       "      <td>register formatters</td>\n",
       "      <td>def formatter(func):\\n    \\n    FORMATTERS[get...</td>\n",
       "    </tr>\n",
       "    <tr>\n",
       "      <th>4</th>\n",
       "      <td>url</td>\n",
       "      <td></td>\n",
       "      <td>convert FROM dict OR string TO URL PARAMETERS</td>\n",
       "      <td>def url(value):\\n    \\n    return value2url_pa...</td>\n",
       "    </tr>\n",
       "    <tr>\n",
       "      <th>...</th>\n",
       "      <td>...</td>\n",
       "      <td>...</td>\n",
       "      <td>...</td>\n",
       "      <td>...</td>\n",
       "    </tr>\n",
       "    <tr>\n",
       "      <th>35453</th>\n",
       "      <td>has_poster</td>\n",
       "      <td></td>\n",
       "      <td>Returns true if a cached poster exists for the...</td>\n",
       "      <td>def has_poster(self, indexer_id):\\n    \\n    p...</td>\n",
       "    </tr>\n",
       "    <tr>\n",
       "      <th>35454</th>\n",
       "      <td>has_banner</td>\n",
       "      <td></td>\n",
       "      <td>Returns true if a cached banner exists for the...</td>\n",
       "      <td>def has_banner(self, indexer_id):\\n    \\n    b...</td>\n",
       "    </tr>\n",
       "    <tr>\n",
       "      <th>35455</th>\n",
       "      <td>has_fanart</td>\n",
       "      <td></td>\n",
       "      <td>Returns true if a cached fanart exists for the...</td>\n",
       "      <td>def has_fanart(self, indexer_id):\\n    \\n    f...</td>\n",
       "    </tr>\n",
       "    <tr>\n",
       "      <th>35456</th>\n",
       "      <td>has_poster_thumbnail</td>\n",
       "      <td></td>\n",
       "      <td>Returns true if a cached poster thumbnail exis...</td>\n",
       "      <td>def has_poster_thumbnail(self, indexer_id):\\n ...</td>\n",
       "    </tr>\n",
       "    <tr>\n",
       "      <th>35457</th>\n",
       "      <td>has_banner_thumbnail</td>\n",
       "      <td></td>\n",
       "      <td>Returns true if a cached banner exists for the...</td>\n",
       "      <td>def has_banner_thumbnail(self, indexer_id):\\n ...</td>\n",
       "    </tr>\n",
       "  </tbody>\n",
       "</table>\n",
       "<p>35458 rows × 4 columns</p>\n",
       "</div>"
      ],
      "text/plain": [
       "                       name  \\\n",
       "0               elapsedFunc   \n",
       "1                  test_nmf   \n",
       "2                 test_sima   \n",
       "3                 formatter   \n",
       "4                       url   \n",
       "...                     ...   \n",
       "35453            has_poster   \n",
       "35454            has_banner   \n",
       "35455            has_fanart   \n",
       "35456  has_poster_thumbnail   \n",
       "35457  has_banner_thumbnail   \n",
       "\n",
       "                                                 descrip  \\\n",
       "0                                                          \n",
       "1      order is irrelevant, but one of these must be ...   \n",
       "2      NOTE: this test was brittle and failed non-det...   \n",
       "3                                                          \n",
       "4                                                          \n",
       "...                                                  ...   \n",
       "35453                                                      \n",
       "35454                                                      \n",
       "35455                                                      \n",
       "35456                                                      \n",
       "35457                                                      \n",
       "\n",
       "                                               docString  \\\n",
       "0                                                     1!   \n",
       "1                        (BlockMethod) nmf with defaults   \n",
       "2                       (BlockMethod) with SIMA strategy   \n",
       "3                                    register formatters   \n",
       "4          convert FROM dict OR string TO URL PARAMETERS   \n",
       "...                                                  ...   \n",
       "35453  Returns true if a cached poster exists for the...   \n",
       "35454  Returns true if a cached banner exists for the...   \n",
       "35455  Returns true if a cached fanart exists for the...   \n",
       "35456  Returns true if a cached poster thumbnail exis...   \n",
       "35457  Returns true if a cached banner exists for the...   \n",
       "\n",
       "                                                function  \n",
       "0                           def elapsedFunc(self):\\n      \n",
       "1      def test_nmf(self):\\n    \\n    tsc = ThunderCo...  \n",
       "2      def test_sima(self):\\n    \\n    import sima.se...  \n",
       "3      def formatter(func):\\n    \\n    FORMATTERS[get...  \n",
       "4      def url(value):\\n    \\n    return value2url_pa...  \n",
       "...                                                  ...  \n",
       "35453  def has_poster(self, indexer_id):\\n    \\n    p...  \n",
       "35454  def has_banner(self, indexer_id):\\n    \\n    b...  \n",
       "35455  def has_fanart(self, indexer_id):\\n    \\n    f...  \n",
       "35456  def has_poster_thumbnail(self, indexer_id):\\n ...  \n",
       "35457  def has_banner_thumbnail(self, indexer_id):\\n ...  \n",
       "\n",
       "[35458 rows x 4 columns]"
      ]
     },
     "execution_count": 210,
     "metadata": {},
     "output_type": "execute_result"
    }
   ],
   "source": [
    "functions"
   ]
  },
  {
   "cell_type": "code",
   "execution_count": 260,
   "metadata": {},
   "outputs": [
    {
     "name": "stdout",
     "output_type": "stream",
     "text": [
      "utf82unicode\n",
      "--------------------\n",
      "WITH EXPLANATION FOR FAILURE\n",
      "--------------------\n",
      "def utf82unicode(value):\n",
      "    \n",
      "    try:\n",
      "        return value.decode(\"utf8\")\n",
      "    except Exception as e:\n",
      "        if not _Log:\n",
      "            _late_import()\n"
     ]
    }
   ],
   "source": [
    "print(functions[\"name\"][10])\n",
    "print(\"--\"*10)\n",
    "print(functions[\"docString\"][10])\n",
    "print(\"--\"*10)\n",
    "print(functions[\"function\"][10])"
   ]
  },
  {
   "cell_type": "code",
   "execution_count": null,
   "metadata": {},
   "outputs": [],
   "source": []
  },
  {
   "cell_type": "code",
   "execution_count": null,
   "metadata": {},
   "outputs": [],
   "source": []
  }
 ],
 "metadata": {
  "kernelspec": {
   "display_name": "Python 3",
   "language": "python",
   "name": "python3"
  },
  "language_info": {
   "codemirror_mode": {
    "name": "ipython",
    "version": 3
   },
   "file_extension": ".py",
   "mimetype": "text/x-python",
   "name": "python",
   "nbconvert_exporter": "python",
   "pygments_lexer": "ipython3",
   "version": "3.7.4"
  }
 },
 "nbformat": 4,
 "nbformat_minor": 2
}
